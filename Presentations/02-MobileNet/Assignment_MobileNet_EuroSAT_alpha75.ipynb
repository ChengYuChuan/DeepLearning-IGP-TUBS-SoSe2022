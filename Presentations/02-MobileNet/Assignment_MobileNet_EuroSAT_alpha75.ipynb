{
  "cells": [
    {
      "cell_type": "markdown",
      "metadata": {
        "id": "view-in-github",
        "colab_type": "text"
      },
      "source": [
        "<a href=\"https://colab.research.google.com/github/Deep-Learning-IGP-TUBS-SoSe2022/2022-Group03/blob/main/Presentations/02-MobileNet/Assignment_MobileNet_EuroSAT_alpha75.ipynb\" target=\"_parent\"><img src=\"https://colab.research.google.com/assets/colab-badge.svg\" alt=\"Open In Colab\"/></a>"
      ]
    },
    {
      "cell_type": "markdown",
      "metadata": {
        "id": "36-c-tfAdksC"
      },
      "source": [
        "**Course**: Deep Learning | Presentation: MobileNet on EuroSAT\n",
        "\n",
        "[<img align=\"right\" width=\"400\" height=\"100\" src=\"https://www.tu-braunschweig.de/typo3conf/ext/tu_braunschweig/Resources/Public/Images/Logos/tu_braunschweig_logo.svg\">](https://www.tu-braunschweig.de/en/) \n",
        "\n",
        "[Mehdi Maboudi](https://www.tu-braunschweig.de/en/igp/staff/mehdi-maboudi) \\([m.maboudi@tu-bs.de](m.maboudi@tu-bs.de)) and [Pedro Achanccaray](https://www.tu-braunschweig.de/en/igp/staff/pedro-diaz) (p.diaz@tu-bs.de)\n",
        "\n",
        "[Technical University of Braunschweig](https://www.tu-braunschweig.de/en/)  \n",
        "[Institute of Geodesy and Photogrammetry](https://www.tu-braunschweig.de/igp) \n",
        "\n",
        "\n",
        "**Group:** 03\n",
        "\n",
        "Students: Fabian Linkerhägner | Yu-Chuan Cheng"
      ]
    },
    {
      "cell_type": "markdown",
      "metadata": {
        "id": "eaAF7w8adr_C"
      },
      "source": [
        "#-------------------------------------------------------------------------------"
      ]
    },
    {
      "cell_type": "markdown",
      "metadata": {
        "id": "9Kxe-TrvdtlV"
      },
      "source": [
        "## **Procedure for this assignment:**\n",
        "\n",
        "\n",
        "### *1) Preparations*\n",
        "#### *--- 1.1) Mounting google drive*\n",
        "#### *--- 1.2) Import of required packages*\n",
        "#### *--- 1.3) Initialize important parameters*\n",
        "----\n",
        "### *2) Load the dataset*\n",
        "#### *--- 2.1) Define transformation helper function*\n",
        "#### *--- 2.2) Define transformations*\n",
        "#### *--- 2.3) Loading and splitting the dataset*\n",
        "#### *--- 2.4) Generating iterators for the datasets*\n",
        "----\n",
        "### *3) Define the CNN network architecture*\n",
        "----\n",
        "### *4) Train the CNN model*\n",
        "#### *--- 4.1) Initialization of the model*\n",
        "#### *--- 4.2) Training loop*\n",
        "----\n",
        "### *5) Evaluating the model using test dataset*\n",
        "----\n",
        "### *6) Plotting the results and saving model*\n",
        "#### *--- 6.1) Saving the model*\n",
        "#### *--- 6.2) Plotting loss*\n",
        "#### *--- 6.3) Plotting accuracy*"
      ]
    },
    {
      "cell_type": "markdown",
      "metadata": {
        "id": "viEwN_Vids2T"
      },
      "source": [
        "#-------------------------------------------------------------------------------"
      ]
    },
    {
      "cell_type": "markdown",
      "metadata": {
        "id": "2CnlCNccdNCT"
      },
      "source": [
        "# 1) Preparations"
      ]
    },
    {
      "cell_type": "markdown",
      "metadata": {
        "id": "QC__tVoWErI9"
      },
      "source": [
        "### 1.1) Mounting google drive"
      ]
    },
    {
      "cell_type": "code",
      "execution_count": 53,
      "metadata": {
        "colab": {
          "base_uri": "https://localhost:8080/"
        },
        "id": "_kdO027erSrp",
        "outputId": "a57fe4f6-3ecb-485b-be9c-49e01b056dab"
      },
      "outputs": [
        {
          "output_type": "stream",
          "name": "stdout",
          "text": [
            "[Info] Mounting google drive...\n",
            "\n",
            "Drive already mounted at /content/drive; to attempt to forcibly remount, call drive.mount(\"/content/drive\", force_remount=True).\n",
            "\n",
            "[Info] Google drive mounted.\n",
            "\n",
            "[Info] Changing current working directory...\n",
            "\n",
            "/content/drive/MyDrive/DeepLearning\n",
            "\n",
            "[Info] Current working directory changed.\n"
          ]
        }
      ],
      "source": [
        "#@title\n",
        "# mount google drive on google colab\n",
        "print(\"[Info] Mounting google drive...\\n\")\n",
        "from google.colab import drive\n",
        "\n",
        "drive.mount('/content/drive')\n",
        "\n",
        "print(\"\\n[Info] Google drive mounted.\")\n",
        "\n",
        "# change to DeepLearning directory\n",
        "print(\"\\n[Info] Changing current working directory...\\n\")\n",
        "\n",
        "%cd /content/drive/MyDrive/DeepLearning/\n",
        "\n",
        "print(\"\\n[Info] Current working directory changed.\")"
      ]
    },
    {
      "cell_type": "markdown",
      "metadata": {
        "id": "uGs6ct0KEtq-"
      },
      "source": [
        "### 1.2) Import of required packages"
      ]
    },
    {
      "cell_type": "code",
      "execution_count": 54,
      "metadata": {
        "colab": {
          "base_uri": "https://localhost:8080/"
        },
        "id": "ckJ2cz60YtTS",
        "outputId": "ef6ff74e-7b26-45ce-c14b-c7e7b7e9add2"
      },
      "outputs": [
        {
          "output_type": "stream",
          "name": "stdout",
          "text": [
            "[Info] Importing packages...\n",
            "[Info] Packages imported.\n"
          ]
        }
      ],
      "source": [
        "#@title\n",
        "# import required packages\n",
        "print(\"[Info] Importing packages...\")\n",
        "\n",
        "import time\n",
        "import numpy as np\n",
        "import matplotlib\n",
        "import matplotlib.pyplot as plt\n",
        "from sklearn.metrics import classification_report\n",
        "\n",
        "import torch\n",
        "from torch import flatten\n",
        "from torch import nn\n",
        "from torch.nn import Module\n",
        "from torch.nn import Conv2d\n",
        "from torch.nn import Linear\n",
        "from torch.nn import MaxPool2d\n",
        "from torch.nn import ReLU\n",
        "from torch.nn import LogSoftmax\n",
        "from torch.optim import Adam\n",
        "from torch.utils.data import random_split\n",
        "from torch.utils.data import DataLoader, Dataset\n",
        "from torchvision.transforms import transforms, ToTensor\n",
        "from torchvision.datasets import EuroSAT, ImageFolder\n",
        "\n",
        "print(\"[Info] Packages imported.\")"
      ]
    },
    {
      "cell_type": "markdown",
      "metadata": {
        "id": "7OP3Z_kgIhxK"
      },
      "source": [
        "### 1.3) Initialize important parameters"
      ]
    },
    {
      "cell_type": "code",
      "execution_count": 55,
      "metadata": {
        "colab": {
          "base_uri": "https://localhost:8080/"
        },
        "id": "mbJcq6VIgjG4",
        "outputId": "d32fd807-9c36-4137-97c4-7079ca230366"
      },
      "outputs": [
        {
          "output_type": "stream",
          "name": "stdout",
          "text": [
            "[Info] Initializing important parameters...\n",
            "\n",
            "\ttraining hyperparameters:\n",
            "\tINIT_LR:\t0.001\n",
            "\tBATCH_SIZE:\t32\n",
            "\tEPOCHS:\t\t25\n",
            "\n",
            "\tdata preparation parameters:\n",
            "\tTRAIN_SPLIT:\t0.8\n",
            "\tVAL_SPLIT:\t0.2\n",
            "\tTEST_SPLIT:\t0.2\n",
            "\n",
            "[Info] Important parameters initialized.\n"
          ]
        }
      ],
      "source": [
        "#@title\n",
        "# initialize some important parameters\n",
        "print(\"[Info] Initializing important parameters...\\n\")\n",
        "\n",
        "# define training hyperparameters\n",
        "INIT_LR = 1e-3\n",
        "BATCH_SIZE = 32\n",
        "EPOCHS = 25\n",
        "\n",
        "# print sample ratios\n",
        "print(\"\\ttraining hyperparameters:\")\n",
        "print(f\"\\tINIT_LR:\\t{INIT_LR}\")\n",
        "print(f\"\\tBATCH_SIZE:\\t{BATCH_SIZE}\")\n",
        "print(f\"\\tEPOCHS:\\t\\t{EPOCHS}\")\n",
        "\n",
        "# define the train, val and test splits\n",
        "TRAIN_SPLIT = 0.8\n",
        "VAL_SPLIT = round(1.0 - TRAIN_SPLIT, 1)\n",
        "TEST_SPLIT = VAL_SPLIT\n",
        "\n",
        "# print sample ratios\n",
        "print(\"\\n\\tdata preparation parameters:\")\n",
        "print(f\"\\tTRAIN_SPLIT:\\t{TRAIN_SPLIT}\")\n",
        "print(f\"\\tVAL_SPLIT:\\t{VAL_SPLIT}\")\n",
        "print(f\"\\tTEST_SPLIT:\\t{TEST_SPLIT}\")\n",
        "\n",
        "print(\"\\n[Info] Important parameters initialized.\")"
      ]
    },
    {
      "cell_type": "markdown",
      "metadata": {
        "id": "5xhZKa_FgXM1"
      },
      "source": [
        "#-------------------------------------------------------------------------------"
      ]
    },
    {
      "cell_type": "markdown",
      "metadata": {
        "id": "VdYAWovyIG0Y"
      },
      "source": [
        "## 2) Load the dataset (UC Merced)"
      ]
    },
    {
      "cell_type": "markdown",
      "metadata": {
        "id": "iqga7pnCI4b-"
      },
      "source": [
        "### 2.1) Define transformation helper function"
      ]
    },
    {
      "cell_type": "code",
      "execution_count": 56,
      "metadata": {
        "colab": {
          "base_uri": "https://localhost:8080/"
        },
        "id": "Jb3gb9VhfpQ0",
        "outputId": "bbdbec1c-9a01-41a3-fd56-b86ca8a384f9"
      },
      "outputs": [
        {
          "output_type": "stream",
          "name": "stdout",
          "text": [
            "[Info] Defining transformation helper function...\n",
            "[Info] Transformation helper function defined.\n"
          ]
        }
      ],
      "source": [
        "#@title\n",
        "# since we are loading the full dataset and still want to transform\n",
        "# test data and train data individually, we need a helper class\n",
        "# for applying a transformation on a dataset\n",
        "print(\"[Info] Defining transformation helper function...\")\n",
        "\n",
        "class ApplyTransform(Dataset):\n",
        "\n",
        "    \"\"\"\n",
        "    Apply transformations to a Dataset\n",
        "    Arguments:\n",
        "        dataset (Dataset): A Dataset that returns (sample, target)\n",
        "        transform (callable, optional): A function/transform to be applied on the sample\n",
        "        target_transform (callable, optional): A function/transform to be applied on the target\n",
        "    \"\"\"\n",
        "\n",
        "    def __init__(self, dataset, transform=None, target_transform=None):\n",
        "\n",
        "        self.dataset = dataset\n",
        "        self.transform = transform\n",
        "        self.target_transform = target_transform\n",
        "\n",
        "    def __getitem__(self, idx):\n",
        "\n",
        "        sample, target = self.dataset[idx]\n",
        "\n",
        "        if self.transform is not None:\n",
        "\n",
        "            sample = self.transform(sample)\n",
        "\n",
        "        if self.target_transform is not None:\n",
        "\n",
        "            target = self.target_transform(target)\n",
        "\n",
        "        return sample, target\n",
        "\n",
        "    def __len__(self):\n",
        "\n",
        "        return len(self.dataset)\n",
        "  \n",
        "print(\"[Info] Transformation helper function defined.\")"
      ]
    },
    {
      "cell_type": "markdown",
      "metadata": {
        "id": "A6uHP88oJRDr"
      },
      "source": [
        "### 2.2) Define transformations"
      ]
    },
    {
      "cell_type": "code",
      "execution_count": 57,
      "metadata": {
        "colab": {
          "base_uri": "https://localhost:8080/"
        },
        "id": "pwDq1PUUJVP1",
        "outputId": "7856ceea-cb6b-4976-d483-04e2ed61c97f"
      },
      "outputs": [
        {
          "output_type": "stream",
          "name": "stdout",
          "text": [
            "[Info] Define transformations...\n",
            "[Info] Transformations defined.\n"
          ]
        }
      ],
      "source": [
        "#@title\n",
        "# define the transformations for training, validation and test datasets\n",
        "print(\"[Info] Define transformations...\")\n",
        "\n",
        "transform_train = transforms.Compose([\n",
        "                                       transforms.CenterCrop(244),\n",
        "                                       transforms.RandomHorizontalFlip(),\n",
        "                                       transforms.ToTensor()\n",
        "                                     ])\n",
        "\n",
        "transform_val = transforms.Compose([\n",
        "                                       transforms.CenterCrop(244),\n",
        "                                       transforms.RandomHorizontalFlip(),\n",
        "                                       transforms.ToTensor()\n",
        "                                     ])\n",
        "\n",
        "transform_test = transforms.Compose([\n",
        "                                       transforms.CenterCrop(244),\n",
        "                                       transforms.ToTensor()\n",
        "                                     ])\n",
        "\n",
        "print(\"[Info] Transformations defined.\")"
      ]
    },
    {
      "cell_type": "markdown",
      "metadata": {
        "id": "eiq2E8ZLJJyq"
      },
      "source": [
        "### 2.3) Loading and splitting the EuroSAT dataset"
      ]
    },
    {
      "cell_type": "code",
      "execution_count": 58,
      "metadata": {
        "colab": {
          "base_uri": "https://localhost:8080/"
        },
        "id": "zDXRCQ4hjoYy",
        "outputId": "32359de3-c234-467b-b6f4-ac9403b7223d"
      },
      "outputs": [
        {
          "output_type": "stream",
          "name": "stdout",
          "text": [
            "[INFO] Loading the EuroSAT dataset...\n",
            "[INFO] EuroSAT dataset was loaded.\n",
            "\n",
            "\tInformation about the EuroSAT dataset:\n",
            "\n",
            "\tnr_of_samples:\t27000\n",
            "\tnr_classes:\t10\n",
            "\n",
            "\t\t 0 AnnualCrop\n",
            "\t\t 1 Forest\n",
            "\t\t 2 HerbaceousVegetation\n",
            "\t\t 3 Highway\n",
            "\t\t 4 Industrial\n",
            "\t\t 5 Pasture\n",
            "\t\t 6 PermanentCrop\n",
            "\t\t 7 Residential\n",
            "\t\t 8 River\n",
            "\t\t 9 SeaLake\n",
            "\n",
            "[INFO] Generating the train/validation/test split...\n",
            "\n",
            "\tnum_training_samples:\t21600 / 27000\t|\t80.00%\n",
            "\tnum_test_samples:\t 5400 / 27000\t|\t20.00%\n",
            "\n",
            "\tnum_train_samples:\t17280 / 21600\t|\t80.00%\n",
            "\tnum_val_samples:\t 4320 / 21600\t|\t20.00%\n",
            "\n",
            "[INFO] Dataset was split into train, valid and test set.\n",
            "\n",
            "[INFO] Applying transformations to train, valid and test datasets.\n",
            "[INFO] Transformations applied to train, valid and test datasets.\n"
          ]
        }
      ],
      "source": [
        "#@title\n",
        "# load the FashionMNIST dataset\n",
        "print(\"[INFO] Loading the EuroSAT dataset...\")\n",
        "\n",
        "# # path where EuroSat data is stored\n",
        "# path_eurosat = \"/content/drive/MyDrive/DeepLearning/datasets/ucm/UCMerced_LandUse/Images\"\n",
        "\n",
        "EuroSATDataSet = EuroSAT(root='./datasets', transform= None, download= True)\n",
        "# load the whole dataset\n",
        "# eurosat_dataset = ImageFolder(root=path_eurosat, transform=None)\n",
        "\n",
        "print(\"[INFO] EuroSAT dataset was loaded.\\n\")\n",
        "\n",
        "# calculate classes and number of samples\n",
        "nr_classes    = len(EuroSATDataSet.classes)\n",
        "nr_of_samples = len(EuroSATDataSet)\n",
        "\n",
        "print(\"\\tInformation about the EuroSAT dataset:\\n\")\n",
        "print(f\"\\tnr_of_samples:\\t{nr_of_samples}\")\n",
        "print(f\"\\tnr_classes:\\t{nr_classes}\\n\")\n",
        "\n",
        "for key, val in enumerate(EuroSATDataSet.class_to_idx):\n",
        "\n",
        "  print(f\"\\t\\t{key:2} {val}\")\n",
        "\n",
        "\n",
        "# calculate the train/validation/test split\n",
        "print(\"\\n[INFO] Generating the train/validation/test split...\\n\")\n",
        "\n",
        "num_training_samples = int(len(EuroSATDataSet) * TRAIN_SPLIT)\n",
        "num_test_samples     = int(len(EuroSATDataSet) * TEST_SPLIT)\n",
        "\n",
        "num_train_samples = int(num_training_samples * TRAIN_SPLIT)\n",
        "num_val_samples   = int(num_training_samples * VAL_SPLIT)\n",
        "\n",
        "# print set sizes\n",
        "print(f\"\\tnum_training_samples:\\t{num_training_samples:5} / {nr_of_samples}\\t\" +\n",
        "      f\"|\\t{100 * num_training_samples / nr_of_samples:.2f}%\")\n",
        "\n",
        "print(f\"\\tnum_test_samples:\\t{num_test_samples:5} / {nr_of_samples}\\t\" +\n",
        "      f\"|\\t{100 * num_test_samples / nr_of_samples:.2f}%\\n\")\n",
        "\n",
        "print(f\"\\tnum_train_samples:\\t{num_train_samples:5} / {num_training_samples}\\t\" +\n",
        "      f\"|\\t{100 * num_train_samples / num_training_samples:.2f}%\")\n",
        "\n",
        "print(f\"\\tnum_val_samples:\\t{num_val_samples:5} / {num_training_samples}\\t\" +\n",
        "      f\"|\\t{100 * num_val_samples / num_training_samples:.2f}%\")\n",
        "\n",
        "(training_data, test_data) = random_split(EuroSATDataSet,\n",
        "                                         [num_training_samples, num_test_samples],\n",
        "                                          generator=torch.Generator().manual_seed(42))\n",
        "\n",
        "(train_data, val_data) = random_split(training_data,\n",
        "                                     [num_train_samples, num_val_samples],\n",
        "                                      generator=torch.Generator().manual_seed(42))\n",
        "\n",
        "print(\"\\n[INFO] Dataset was split into train, valid and test set.\\n\")\n",
        "\n",
        "print(\"[INFO] Applying transformations to train, valid and test datasets.\")\n",
        "\n",
        "# do the transformation of the datasets\n",
        "train_data = ApplyTransform(train_data, transform=transform_train)\n",
        "val_data   = ApplyTransform(val_data,   transform=transform_val)\n",
        "test_data  = ApplyTransform(test_data,  transform=transform_test)\n",
        "\n",
        "print(\"[INFO] Transformations applied to train, valid and test datasets.\")"
      ]
    },
    {
      "cell_type": "markdown",
      "metadata": {
        "id": "grQz2VWdLD3k"
      },
      "source": [
        "### 2.4) Generating iterators for the datasets"
      ]
    },
    {
      "cell_type": "code",
      "execution_count": 59,
      "metadata": {
        "colab": {
          "base_uri": "https://localhost:8080/"
        },
        "id": "BBP30eEGkoUq",
        "outputId": "d8479285-9092-4b3c-b0e7-b8c25478365c"
      },
      "outputs": [
        {
          "output_type": "stream",
          "name": "stdout",
          "text": [
            "[Info] Generating iterators for the datasets...\n",
            "[Info] Iterators for the datasets generated.\n"
          ]
        }
      ],
      "source": [
        "#@title\n",
        "# initialize the train, validation and test data loaders\n",
        "print(\"[Info] Generating iterators for the datasets...\")\n",
        "\n",
        "train_dataloader = DataLoader(train_data, batch_size=BATCH_SIZE, shuffle=True)\n",
        "val_dataloader   = DataLoader(val_data,   batch_size=BATCH_SIZE)\n",
        "test_dataloader  = DataLoader(test_data,  batch_size=BATCH_SIZE)\n",
        "\n",
        "print(\"[Info] Iterators for the datasets generated.\")"
      ]
    },
    {
      "cell_type": "markdown",
      "metadata": {
        "id": "Ai6gsXqsIFTC"
      },
      "source": [
        "#-------------------------------------------------------------------------------"
      ]
    },
    {
      "cell_type": "markdown",
      "metadata": {
        "id": "L0CdslsLckmM"
      },
      "source": [
        "# 3) MobileNet model"
      ]
    },
    {
      "cell_type": "code",
      "execution_count": 60,
      "metadata": {
        "id": "B5lQuD240HeN"
      },
      "outputs": [],
      "source": [
        "\"\"\"mobilenet in pytorch\n",
        "[1] Andrew G. Howard, Menglong Zhu, Bo Chen, Dmitry Kalenichenko, Weijun Wang, Tobias Weyand, Marco Andreetto, Hartwig Adam\n",
        "    MobileNets: Efficient Convolutional Neural Networks for Mobile Vision Applications\n",
        "    https://arxiv.org/abs/1704.04861\n",
        "\"\"\"\n",
        "class DepthSeperabelConv2d(nn.Module):\n",
        "\n",
        "    def __init__(self, input_channels, output_channels, kernel_size, **kwargs):\n",
        "        super().__init__()\n",
        "        self.depthwise = nn.Sequential(\n",
        "            nn.Conv2d(\n",
        "                input_channels,\n",
        "                input_channels,\n",
        "                kernel_size,\n",
        "                groups=input_channels,\n",
        "                **kwargs),\n",
        "            nn.BatchNorm2d(input_channels),\n",
        "            nn.ReLU(inplace=True)\n",
        "        )\n",
        "\n",
        "        self.pointwise = nn.Sequential(\n",
        "            nn.Conv2d(input_channels, output_channels, 1),\n",
        "            nn.BatchNorm2d(output_channels),\n",
        "            nn.ReLU(inplace=True)\n",
        "        )\n",
        "\n",
        "    def forward(self, x):\n",
        "        x = self.depthwise(x)\n",
        "        x = self.pointwise(x)\n",
        "\n",
        "        return x\n",
        "\n",
        "\n",
        "class BasicConv2d(nn.Module):\n",
        "\n",
        "    def __init__(self, input_channels, output_channels, kernel_size, **kwargs):\n",
        "\n",
        "        super().__init__()\n",
        "        self.conv = nn.Conv2d(\n",
        "            input_channels, output_channels, kernel_size, **kwargs)\n",
        "        self.bn = nn.BatchNorm2d(output_channels)\n",
        "        self.relu = nn.ReLU(inplace=True)\n",
        "\n",
        "    def forward(self, x):\n",
        "        x = self.conv(x)\n",
        "        x = self.bn(x)\n",
        "        x = self.relu(x)\n",
        "\n",
        "        return x\n",
        "\n",
        "\n",
        "class MobileNet(nn.Module):\n",
        "\n",
        "    \"\"\"\n",
        "    Args:\n",
        "        width multipler: The role of the width multiplier α is to thin\n",
        "                         a network uniformly at each layer. For a given\n",
        "                         layer and width multiplier α, the number of\n",
        "                         input channels M becomes αM and the number of\n",
        "                         output channels N becomes αN.\n",
        "    \"\"\"\n",
        "\n",
        "    def __init__(self, width_multiplier=1, class_num=100):\n",
        "       super().__init__()\n",
        "\n",
        "       alpha = width_multiplier\n",
        "       self.stem = nn.Sequential(\n",
        "           BasicConv2d(3, int(32 * alpha), 3, padding=1, bias=False),\n",
        "           DepthSeperabelConv2d(\n",
        "               int(32 * alpha),\n",
        "               int(64 * alpha),\n",
        "               3,\n",
        "               padding=1,\n",
        "               bias=False\n",
        "           )\n",
        "       )\n",
        "\n",
        "       #downsample\n",
        "       self.conv1 = nn.Sequential(\n",
        "           DepthSeperabelConv2d(\n",
        "               int(64 * alpha),\n",
        "               int(128 * alpha),\n",
        "               3,\n",
        "               stride=2,\n",
        "               padding=1,\n",
        "               bias=False\n",
        "           ),\n",
        "           DepthSeperabelConv2d(\n",
        "               int(128 * alpha),\n",
        "               int(128 * alpha),\n",
        "               3,\n",
        "               padding=1,\n",
        "               bias=False\n",
        "           )\n",
        "       )\n",
        "\n",
        "       #downsample\n",
        "       self.conv2 = nn.Sequential(\n",
        "           DepthSeperabelConv2d(\n",
        "               int(128 * alpha),\n",
        "               int(256 * alpha),\n",
        "               3,\n",
        "               stride=2,\n",
        "               padding=1,\n",
        "               bias=False\n",
        "           ),\n",
        "           DepthSeperabelConv2d(\n",
        "               int(256 * alpha),\n",
        "               int(256 * alpha),\n",
        "               3,\n",
        "               padding=1,\n",
        "               bias=False\n",
        "           )\n",
        "       )\n",
        "\n",
        "       #downsample\n",
        "       self.conv3 = nn.Sequential(\n",
        "           DepthSeperabelConv2d(\n",
        "               int(256 * alpha),\n",
        "               int(512 * alpha),\n",
        "               3,\n",
        "               stride=2,\n",
        "               padding=1,\n",
        "               bias=False\n",
        "           ),\n",
        "\n",
        "           DepthSeperabelConv2d(\n",
        "               int(512 * alpha),\n",
        "               int(512 * alpha),\n",
        "               3,\n",
        "               padding=1,\n",
        "               bias=False\n",
        "           ),\n",
        "           DepthSeperabelConv2d(\n",
        "               int(512 * alpha),\n",
        "               int(512 * alpha),\n",
        "               3,\n",
        "               padding=1,\n",
        "               bias=False\n",
        "           ),\n",
        "           DepthSeperabelConv2d(\n",
        "               int(512 * alpha),\n",
        "               int(512 * alpha),\n",
        "               3,\n",
        "               padding=1,\n",
        "               bias=False\n",
        "           ),\n",
        "           DepthSeperabelConv2d(\n",
        "               int(512 * alpha),\n",
        "               int(512 * alpha),\n",
        "               3,\n",
        "               padding=1,\n",
        "               bias=False\n",
        "           ),\n",
        "           DepthSeperabelConv2d(\n",
        "               int(512 * alpha),\n",
        "               int(512 * alpha),\n",
        "               3,\n",
        "               padding=1,\n",
        "               bias=False\n",
        "           )\n",
        "       )\n",
        "\n",
        "       #downsample\n",
        "       self.conv4 = nn.Sequential(\n",
        "           DepthSeperabelConv2d(\n",
        "               int(512 * alpha),\n",
        "               int(1024 * alpha),\n",
        "               3,\n",
        "               stride=2,\n",
        "               padding=1,\n",
        "               bias=False\n",
        "           ),\n",
        "           DepthSeperabelConv2d(\n",
        "               int(1024 * alpha),\n",
        "               int(1024 * alpha),\n",
        "               3,\n",
        "               padding=1,\n",
        "               bias=False\n",
        "           )\n",
        "       )\n",
        "\n",
        "       self.fc = nn.Linear(int(1024 * alpha), class_num)\n",
        "       self.avg = nn.AdaptiveAvgPool2d(1)\n",
        "\n",
        "    def forward(self, x):\n",
        "        x = self.stem(x)\n",
        "\n",
        "        x = self.conv1(x)\n",
        "        x = self.conv2(x)\n",
        "        x = self.conv3(x)\n",
        "        x = self.conv4(x)\n",
        "\n",
        "        x = self.avg(x)\n",
        "        x = x.view(x.size(0), -1)\n",
        "        x = self.fc(x)\n",
        "        return x\n",
        "\n",
        "\n",
        "def mobilenet(alpha=1, class_num=100):\n",
        "    return MobileNet(alpha, class_num)"
      ]
    },
    {
      "cell_type": "code",
      "execution_count": 61,
      "metadata": {
        "id": "7nmnEFnycr-M"
      },
      "outputs": [],
      "source": [
        "# from bottleneck import Bottleneck\n",
        "class MobileNetV2_alpha1(nn.Module):\n",
        "    def __init__(self, t, p, output_channels=1000, alpha=1, rho=1):\n",
        "        super(MobileNetV2, self).__init__()\n",
        "\n",
        "        self.rho, self.alpha = rho, alpha\n",
        "        self.channels = [32, 16, 24, 32, 64, 96, 160, 320] * self.alpha\n",
        "\n",
        "        self.initial_conv = nn.Conv2d(3, self.channels[0], kernel_size=3, stride=2, padding=1)\n",
        "        self.initial_bn = nn.BatchNorm2d(32)\n",
        "\n",
        "        self.layer1 = self._make_layer('bottleneck_1', 1, self.channels[0], self.channels[1], 1, 1)\n",
        "        self.layer2 = self._make_layer('bottleneck_2', t, self.channels[1], self.channels[2], 2, 2)\n",
        "        self.layer3 = self._make_layer('bottleneck_3', t, self.channels[2], self.channels[3], 3, 2)\n",
        "        self.layer4 = self._make_layer('bottleneck_4', t, self.channels[3], self.channels[4], 4, 2)\n",
        "        self.layer5 = self._make_layer('bottleneck_5', t, self.channels[4], self.channels[5], 3, 1)\n",
        "        self.layer6 = self._make_layer('bottleneck_6', t, self.channels[5], self.channels[6], 3, 2)\n",
        "        self.layer7 = self._make_layer('bottleneck_7', t, self.channels[6], self.channels[7], 1, 1)\n",
        "\n",
        "        self.pointwise1 = nn.Conv2d(320, 1280, kernel_size=1, stride=1, padding=1)\n",
        "        self.bn2 = nn.BatchNorm2d(1280)\n",
        "\n",
        "        self.avg_pool = nn.AvgPool2d((7, 7))\n",
        "        self.final_pointwise = nn.Conv2d(1280, output_channels, kernel_size=1)\n",
        "        self.dropout = nn.Dropout(p)\n",
        "\n",
        "        self.relu = nn.ReLU6()\n",
        "\n",
        "        # Initialize conv and batchnorm layers\n",
        "        for m in self.modules():\n",
        "            if isinstance(m, nn.Conv2d):\n",
        "                nn.init.kaiming_normal_(m.weight, mode='fan_out', nonlinearity='leaky_relu')\n",
        "            elif isinstance(m, nn.Conv2d):\n",
        "                nn.init.normal_(m.weight)\n",
        "                nn.init.constant_(m.bias, 0)\n",
        "\n",
        "    def forward(self, x):\n",
        "        x = self.initial_conv(x)\n",
        "        x = self.initial_bn(x)\n",
        "        x = self.relu(x)\n",
        "\n",
        "        x = self.layer1(x)\n",
        "        x = self.layer2(x)\n",
        "        x = self.layer3(x)\n",
        "        x = self.layer4(x)\n",
        "        x = self.layer5(x)\n",
        "        x = self.layer6(x)\n",
        "        x = self.layer7(x)\n",
        "\n",
        "        x = self.pointwise1(x)\n",
        "        x = self.bn2(x)\n",
        "        x = self.relu(x)\n",
        "\n",
        "        x = self.avg_pool(x)\n",
        "\n",
        "        x = self.final_pointwise(x)\n",
        "        x = self.dropout(x)\n",
        "        x = self.relu(x)\n",
        "\n",
        "        return x\n",
        "\n",
        "    @staticmethod\n",
        "    def _make_layer(init_name, t, in_channels, out_channels, n, stride):\n",
        "        layer = nn.Sequential()\n",
        "\n",
        "        for i in range(n):\n",
        "            s = stride if i == 0 else 1\n",
        "            in_c = in_channels if i == 0 else out_channels\n",
        "\n",
        "            layer.add_module(init_name + f'_{i+1}', Bottleneck(in_c, out_channels, t, s))\n",
        "\n",
        "        return layer"
      ]
    },
    {
      "cell_type": "markdown",
      "metadata": {
        "id": "N7VL-hxCgfeG"
      },
      "source": [
        "# 4) Train the CNN model"
      ]
    },
    {
      "cell_type": "markdown",
      "metadata": {
        "id": "Ep4VECqKjNHF"
      },
      "source": [
        "### 4.1) Initialization of the CNN model"
      ]
    },
    {
      "cell_type": "code",
      "execution_count": 62,
      "metadata": {
        "colab": {
          "base_uri": "https://localhost:8080/"
        },
        "id": "M6yTfGbPlTBE",
        "outputId": "88cddcdc-5d7e-4052-9713-98e5eb8c670c"
      },
      "outputs": [
        {
          "output_type": "stream",
          "name": "stdout",
          "text": [
            "[Info] Initialize the LeNet model...\n",
            "[Info] LeNet model initialized.\n"
          ]
        }
      ],
      "source": [
        "#@title\n",
        "print(\"[Info] Initialize the LeNet model...\")\n",
        "\n",
        "# set the device we will be using to train the model\n",
        "device = torch.device(\"cuda\" if torch.cuda.is_available() else \"cpu\")\n",
        "\"\"\"\n",
        "initialize the LeNet model\n",
        "we have three NN in this script:\n",
        "1. from torch.hub.load\n",
        "2. MobileNet\n",
        "3. MobileNetV2\n",
        "\"\"\"\n",
        "# model = torch.hub.load('pytorch/vision:v0.10.0', 'mobilenet_v2', pretrained=False).to(device)\n",
        "model = MobileNet(width_multiplier=0.75, class_num= nr_classes).to(device)\n",
        "# model_alpha75 = MobileNet(width_multiplier=0.75, class_num= nr_classes).to(device)\n",
        "# model_alpha25 = MobileNet(width_multiplier=0.25, class_num= nr_classes).to(device)\n",
        "# initialize our optimizer and loss function\n",
        "opt = Adam(model.parameters(), lr=INIT_LR)\n",
        "# opt_alpha75 = Adam(model_alpha75.parameters(), lr=INIT_LR)\n",
        "# opt_alpha25 = Adam(model_alpha25.parameters(), lr=INIT_LR)\n",
        "\n",
        "loss_fn = nn.CrossEntropyLoss()\n",
        "\n",
        "# initialize a dictionary to store training history\n",
        "H = {\n",
        "      \"train_loss\": [],\n",
        "      \"train_acc\": [],\n",
        "      \"val_loss\": [],\n",
        "      \"val_acc\": []\n",
        "    }\n",
        "\n",
        "print(\"[Info] LeNet model initialized.\")"
      ]
    },
    {
      "cell_type": "markdown",
      "metadata": {
        "id": "_teXhSt4l88J"
      },
      "source": [
        "### 4.2) Training loop"
      ]
    },
    {
      "cell_type": "code",
      "execution_count": 63,
      "metadata": {
        "colab": {
          "base_uri": "https://localhost:8080/"
        },
        "id": "VUpN9yT2mAol",
        "outputId": "40f9fe5b-26fa-4e65-aab9-40a90f6ab80e"
      },
      "outputs": [
        {
          "output_type": "stream",
          "name": "stdout",
          "text": [
            "[Info] Training the network...\n",
            "\n",
            "\tEPOCH: 1/25\n",
            "\ttrain_loss:\t0.996229\t|\ttrain_acc:\t63.34%\n",
            "\tval_loss:\t0.852088\t|\tval_acc:\t67.92%\n",
            "\n",
            "\tEPOCH: 2/25\n",
            "\ttrain_loss:\t0.688293\t|\ttrain_acc:\t75.36%\n",
            "\tval_loss:\t1.737554\t|\tval_acc:\t50.69%\n",
            "\n",
            "\tEPOCH: 3/25\n",
            "\ttrain_loss:\t0.555896\t|\ttrain_acc:\t80.58%\n",
            "\tval_loss:\t0.459165\t|\tval_acc:\t84.24%\n",
            "\n",
            "\tEPOCH: 4/25\n",
            "\ttrain_loss:\t0.472900\t|\ttrain_acc:\t83.71%\n",
            "\tval_loss:\t0.462480\t|\tval_acc:\t83.73%\n",
            "\n",
            "\tEPOCH: 5/25\n",
            "\ttrain_loss:\t0.422989\t|\ttrain_acc:\t85.17%\n",
            "\tval_loss:\t0.554667\t|\tval_acc:\t80.35%\n",
            "\n",
            "\tEPOCH: 6/25\n",
            "\ttrain_loss:\t0.374980\t|\ttrain_acc:\t87.11%\n",
            "\tval_loss:\t0.365002\t|\tval_acc:\t87.92%\n",
            "\n",
            "\tEPOCH: 7/25\n",
            "\ttrain_loss:\t0.338983\t|\ttrain_acc:\t88.21%\n",
            "\tval_loss:\t0.326099\t|\tval_acc:\t89.05%\n",
            "\n",
            "\tEPOCH: 8/25\n",
            "\ttrain_loss:\t0.305680\t|\ttrain_acc:\t89.20%\n",
            "\tval_loss:\t0.443112\t|\tval_acc:\t86.64%\n",
            "\n",
            "\tEPOCH: 9/25\n",
            "\ttrain_loss:\t0.278346\t|\ttrain_acc:\t90.30%\n",
            "\tval_loss:\t0.292534\t|\tval_acc:\t89.95%\n",
            "\n",
            "\tEPOCH: 10/25\n",
            "\ttrain_loss:\t0.263785\t|\ttrain_acc:\t90.80%\n",
            "\tval_loss:\t0.295279\t|\tval_acc:\t89.84%\n",
            "\n",
            "\tEPOCH: 11/25\n",
            "\ttrain_loss:\t0.236227\t|\ttrain_acc:\t91.78%\n",
            "\tval_loss:\t0.283815\t|\tval_acc:\t90.19%\n",
            "\n",
            "\tEPOCH: 12/25\n",
            "\ttrain_loss:\t0.225651\t|\ttrain_acc:\t92.08%\n",
            "\tval_loss:\t0.289262\t|\tval_acc:\t90.02%\n",
            "\n",
            "\tEPOCH: 13/25\n",
            "\ttrain_loss:\t0.205031\t|\ttrain_acc:\t92.86%\n",
            "\tval_loss:\t0.250188\t|\tval_acc:\t91.18%\n",
            "\n",
            "\tEPOCH: 14/25\n",
            "\ttrain_loss:\t0.198635\t|\ttrain_acc:\t93.05%\n",
            "\tval_loss:\t0.314805\t|\tval_acc:\t89.35%\n",
            "\n",
            "\tEPOCH: 15/25\n",
            "\ttrain_loss:\t0.181564\t|\ttrain_acc:\t93.52%\n",
            "\tval_loss:\t0.270476\t|\tval_acc:\t91.32%\n",
            "\n",
            "\tEPOCH: 16/25\n",
            "\ttrain_loss:\t0.171527\t|\ttrain_acc:\t94.11%\n",
            "\tval_loss:\t0.224553\t|\tval_acc:\t92.29%\n",
            "\n",
            "\tEPOCH: 17/25\n",
            "\ttrain_loss:\t0.171127\t|\ttrain_acc:\t94.02%\n",
            "\tval_loss:\t0.260944\t|\tval_acc:\t91.94%\n",
            "\n",
            "\tEPOCH: 18/25\n",
            "\ttrain_loss:\t0.151586\t|\ttrain_acc:\t94.73%\n",
            "\tval_loss:\t0.221646\t|\tval_acc:\t92.99%\n",
            "\n",
            "\tEPOCH: 19/25\n",
            "\ttrain_loss:\t0.145360\t|\ttrain_acc:\t94.84%\n",
            "\tval_loss:\t0.218289\t|\tval_acc:\t92.73%\n",
            "\n",
            "\tEPOCH: 20/25\n",
            "\ttrain_loss:\t0.141024\t|\ttrain_acc:\t95.20%\n",
            "\tval_loss:\t0.228778\t|\tval_acc:\t93.10%\n",
            "\n",
            "\tEPOCH: 21/25\n",
            "\ttrain_loss:\t0.127031\t|\ttrain_acc:\t95.72%\n",
            "\tval_loss:\t0.257224\t|\tval_acc:\t91.53%\n",
            "\n",
            "\tEPOCH: 22/25\n",
            "\ttrain_loss:\t0.134673\t|\ttrain_acc:\t95.28%\n",
            "\tval_loss:\t0.288407\t|\tval_acc:\t90.83%\n",
            "\n",
            "\tEPOCH: 23/25\n",
            "\ttrain_loss:\t0.121077\t|\ttrain_acc:\t95.68%\n",
            "\tval_loss:\t0.225051\t|\tval_acc:\t92.94%\n",
            "\n",
            "\tEPOCH: 24/25\n",
            "\ttrain_loss:\t0.116778\t|\ttrain_acc:\t95.93%\n",
            "\tval_loss:\t0.192762\t|\tval_acc:\t93.66%\n",
            "\n",
            "\tEPOCH: 25/25\n",
            "\ttrain_loss:\t0.106471\t|\ttrain_acc:\t96.35%\n",
            "\tval_loss:\t0.226860\t|\tval_acc:\t92.69%\n",
            "\n",
            "[Info] Total model training time:\t6301.94s\n",
            "[Info] Training done.\n"
          ]
        }
      ],
      "source": [
        "#@title\n",
        "# measure how long training is going to take\n",
        "print(\"[Info] Training the network...\\n\")\n",
        "\n",
        "# time of training starting\n",
        "start_time = time.time()\n",
        "\n",
        "# calculate steps per epoch for training and validation set\n",
        "train_steps = len(train_dataloader.dataset) // BATCH_SIZE\n",
        "val_steps   = len(val_dataloader.dataset) // BATCH_SIZE\n",
        "\n",
        "# loop over our epochs\n",
        "for e in range(0, EPOCHS):\n",
        "\n",
        "  # set the model in training mode\n",
        "  model.train()\n",
        "\n",
        "  # initialize the total training and validation loss\n",
        "  total_train_loss = 0\n",
        "  total_val_loss   = 0\n",
        "\n",
        "  # initialize the number of correct predicitions \n",
        "  # in the training and validation step\n",
        "  train_correct = 0\n",
        "  val_correct   = 0\n",
        "\n",
        "  # loop over the training set\n",
        "  for (x, y) in train_dataloader:\n",
        "\n",
        "    # send the input to the device\n",
        "    (x, y) = (x.to(device), y.to(device))\n",
        "\n",
        "    # perform a forward pass and calculate the training loss\n",
        "    pred = model(x)\n",
        "    loss = loss_fn(pred, y)\n",
        "\n",
        "    # zero out the gradients, perform the backpropagation step,\n",
        "    # and update the weights\n",
        "    opt.zero_grad()\n",
        "    loss.backward()\n",
        "    opt.step()\n",
        "\n",
        "    # add the loss to the total training loss so far and \n",
        "    # calculate the number of correct predictions\n",
        "    total_train_loss += loss\n",
        "    train_correct    += (pred.argmax(1) == y).type(torch.float).sum().item()\n",
        "  \n",
        "  # switch off autograd for evaluation\n",
        "  with torch.no_grad():\n",
        "\n",
        "    # set the model in evaluation mode\n",
        "    model.eval()\n",
        "\n",
        "    # loop over the validation set\n",
        "    for (x, y) in val_dataloader:\n",
        "\n",
        "      # send the input to the device\n",
        "      (x, y) = (x.to(device), y.to(device))\n",
        "\n",
        "      # make the predictions and calculate the validation loss\n",
        "      pred = model(x)\n",
        "      total_val_loss += loss_fn(pred, y)\n",
        "\n",
        "      # calculate the number of correct predictions\n",
        "      val_correct += (pred.argmax(1) == y).type(torch.float).sum().item()\n",
        "\n",
        "  # calculate the average training and validation loss\n",
        "  avg_train_loss = total_train_loss / train_steps\n",
        "  avg_val_loss   = total_val_loss   / val_steps\n",
        "\n",
        "  # calculate the training and validation accuracy\n",
        "  train_correct = train_correct / len(train_dataloader.dataset)\n",
        "  val_correct   = val_correct   / len(val_dataloader.dataset)\n",
        "\n",
        "  # update our training history\n",
        "  H[\"train_loss\"].append(avg_train_loss.cpu().detach().numpy())\n",
        "  H[\"train_acc\"].append(train_correct)\n",
        "  H[\"val_loss\"].append(avg_val_loss.cpu().detach().numpy())\n",
        "  H[\"val_acc\"].append(val_correct)\n",
        "\n",
        "  # print the model training and validation information\n",
        "  print(f\"\\tEPOCH: {e + 1}/{EPOCHS}\")\n",
        "  print(f\"\\ttrain_loss:\\t{avg_train_loss:.6f}\\t|\\ttrain_acc:\\t{100 * train_correct:.2f}%\")\n",
        "  print(f\"\\tval_loss:\\t{avg_val_loss:.6f}\\t|\\tval_acc:\\t{100 * val_correct:.2f}%\\n\")\n",
        "\n",
        "# finish measuring how long training took\n",
        "training_time = time.time() - start_time\n",
        "\n",
        "print(f\"[Info] Total model training time:\\t{training_time:.2f}s\")\n",
        "                                                 \n",
        "print(\"[Info] Training done.\")"
      ]
    },
    {
      "cell_type": "markdown",
      "metadata": {
        "id": "FLIycaaoz-y4"
      },
      "source": [
        "#-------------------------------------------------------------------------------"
      ]
    },
    {
      "cell_type": "markdown",
      "metadata": {
        "id": "BPesil9rzve-"
      },
      "source": [
        "# 5) Evaluating the model using test dataset"
      ]
    },
    {
      "cell_type": "code",
      "execution_count": 64,
      "metadata": {
        "id": "fVOQ-cIgooCx",
        "colab": {
          "base_uri": "https://localhost:8080/"
        },
        "outputId": "beb37edf-3ee9-4297-c241-28f15262c91f"
      },
      "outputs": [
        {
          "output_type": "stream",
          "name": "stdout",
          "text": [
            "[Info] Evaluating network...\n",
            "\n",
            "\tMobileNet model:\n",
            "MobileNet(\n",
            "  (stem): Sequential(\n",
            "    (0): BasicConv2d(\n",
            "      (conv): Conv2d(3, 24, kernel_size=(3, 3), stride=(1, 1), padding=(1, 1), bias=False)\n",
            "      (bn): BatchNorm2d(24, eps=1e-05, momentum=0.1, affine=True, track_running_stats=True)\n",
            "      (relu): ReLU(inplace=True)\n",
            "    )\n",
            "    (1): DepthSeperabelConv2d(\n",
            "      (depthwise): Sequential(\n",
            "        (0): Conv2d(24, 24, kernel_size=(3, 3), stride=(1, 1), padding=(1, 1), groups=24, bias=False)\n",
            "        (1): BatchNorm2d(24, eps=1e-05, momentum=0.1, affine=True, track_running_stats=True)\n",
            "        (2): ReLU(inplace=True)\n",
            "      )\n",
            "      (pointwise): Sequential(\n",
            "        (0): Conv2d(24, 48, kernel_size=(1, 1), stride=(1, 1))\n",
            "        (1): BatchNorm2d(48, eps=1e-05, momentum=0.1, affine=True, track_running_stats=True)\n",
            "        (2): ReLU(inplace=True)\n",
            "      )\n",
            "    )\n",
            "  )\n",
            "  (conv1): Sequential(\n",
            "    (0): DepthSeperabelConv2d(\n",
            "      (depthwise): Sequential(\n",
            "        (0): Conv2d(48, 48, kernel_size=(3, 3), stride=(2, 2), padding=(1, 1), groups=48, bias=False)\n",
            "        (1): BatchNorm2d(48, eps=1e-05, momentum=0.1, affine=True, track_running_stats=True)\n",
            "        (2): ReLU(inplace=True)\n",
            "      )\n",
            "      (pointwise): Sequential(\n",
            "        (0): Conv2d(48, 96, kernel_size=(1, 1), stride=(1, 1))\n",
            "        (1): BatchNorm2d(96, eps=1e-05, momentum=0.1, affine=True, track_running_stats=True)\n",
            "        (2): ReLU(inplace=True)\n",
            "      )\n",
            "    )\n",
            "    (1): DepthSeperabelConv2d(\n",
            "      (depthwise): Sequential(\n",
            "        (0): Conv2d(96, 96, kernel_size=(3, 3), stride=(1, 1), padding=(1, 1), groups=96, bias=False)\n",
            "        (1): BatchNorm2d(96, eps=1e-05, momentum=0.1, affine=True, track_running_stats=True)\n",
            "        (2): ReLU(inplace=True)\n",
            "      )\n",
            "      (pointwise): Sequential(\n",
            "        (0): Conv2d(96, 96, kernel_size=(1, 1), stride=(1, 1))\n",
            "        (1): BatchNorm2d(96, eps=1e-05, momentum=0.1, affine=True, track_running_stats=True)\n",
            "        (2): ReLU(inplace=True)\n",
            "      )\n",
            "    )\n",
            "  )\n",
            "  (conv2): Sequential(\n",
            "    (0): DepthSeperabelConv2d(\n",
            "      (depthwise): Sequential(\n",
            "        (0): Conv2d(96, 96, kernel_size=(3, 3), stride=(2, 2), padding=(1, 1), groups=96, bias=False)\n",
            "        (1): BatchNorm2d(96, eps=1e-05, momentum=0.1, affine=True, track_running_stats=True)\n",
            "        (2): ReLU(inplace=True)\n",
            "      )\n",
            "      (pointwise): Sequential(\n",
            "        (0): Conv2d(96, 192, kernel_size=(1, 1), stride=(1, 1))\n",
            "        (1): BatchNorm2d(192, eps=1e-05, momentum=0.1, affine=True, track_running_stats=True)\n",
            "        (2): ReLU(inplace=True)\n",
            "      )\n",
            "    )\n",
            "    (1): DepthSeperabelConv2d(\n",
            "      (depthwise): Sequential(\n",
            "        (0): Conv2d(192, 192, kernel_size=(3, 3), stride=(1, 1), padding=(1, 1), groups=192, bias=False)\n",
            "        (1): BatchNorm2d(192, eps=1e-05, momentum=0.1, affine=True, track_running_stats=True)\n",
            "        (2): ReLU(inplace=True)\n",
            "      )\n",
            "      (pointwise): Sequential(\n",
            "        (0): Conv2d(192, 192, kernel_size=(1, 1), stride=(1, 1))\n",
            "        (1): BatchNorm2d(192, eps=1e-05, momentum=0.1, affine=True, track_running_stats=True)\n",
            "        (2): ReLU(inplace=True)\n",
            "      )\n",
            "    )\n",
            "  )\n",
            "  (conv3): Sequential(\n",
            "    (0): DepthSeperabelConv2d(\n",
            "      (depthwise): Sequential(\n",
            "        (0): Conv2d(192, 192, kernel_size=(3, 3), stride=(2, 2), padding=(1, 1), groups=192, bias=False)\n",
            "        (1): BatchNorm2d(192, eps=1e-05, momentum=0.1, affine=True, track_running_stats=True)\n",
            "        (2): ReLU(inplace=True)\n",
            "      )\n",
            "      (pointwise): Sequential(\n",
            "        (0): Conv2d(192, 384, kernel_size=(1, 1), stride=(1, 1))\n",
            "        (1): BatchNorm2d(384, eps=1e-05, momentum=0.1, affine=True, track_running_stats=True)\n",
            "        (2): ReLU(inplace=True)\n",
            "      )\n",
            "    )\n",
            "    (1): DepthSeperabelConv2d(\n",
            "      (depthwise): Sequential(\n",
            "        (0): Conv2d(384, 384, kernel_size=(3, 3), stride=(1, 1), padding=(1, 1), groups=384, bias=False)\n",
            "        (1): BatchNorm2d(384, eps=1e-05, momentum=0.1, affine=True, track_running_stats=True)\n",
            "        (2): ReLU(inplace=True)\n",
            "      )\n",
            "      (pointwise): Sequential(\n",
            "        (0): Conv2d(384, 384, kernel_size=(1, 1), stride=(1, 1))\n",
            "        (1): BatchNorm2d(384, eps=1e-05, momentum=0.1, affine=True, track_running_stats=True)\n",
            "        (2): ReLU(inplace=True)\n",
            "      )\n",
            "    )\n",
            "    (2): DepthSeperabelConv2d(\n",
            "      (depthwise): Sequential(\n",
            "        (0): Conv2d(384, 384, kernel_size=(3, 3), stride=(1, 1), padding=(1, 1), groups=384, bias=False)\n",
            "        (1): BatchNorm2d(384, eps=1e-05, momentum=0.1, affine=True, track_running_stats=True)\n",
            "        (2): ReLU(inplace=True)\n",
            "      )\n",
            "      (pointwise): Sequential(\n",
            "        (0): Conv2d(384, 384, kernel_size=(1, 1), stride=(1, 1))\n",
            "        (1): BatchNorm2d(384, eps=1e-05, momentum=0.1, affine=True, track_running_stats=True)\n",
            "        (2): ReLU(inplace=True)\n",
            "      )\n",
            "    )\n",
            "    (3): DepthSeperabelConv2d(\n",
            "      (depthwise): Sequential(\n",
            "        (0): Conv2d(384, 384, kernel_size=(3, 3), stride=(1, 1), padding=(1, 1), groups=384, bias=False)\n",
            "        (1): BatchNorm2d(384, eps=1e-05, momentum=0.1, affine=True, track_running_stats=True)\n",
            "        (2): ReLU(inplace=True)\n",
            "      )\n",
            "      (pointwise): Sequential(\n",
            "        (0): Conv2d(384, 384, kernel_size=(1, 1), stride=(1, 1))\n",
            "        (1): BatchNorm2d(384, eps=1e-05, momentum=0.1, affine=True, track_running_stats=True)\n",
            "        (2): ReLU(inplace=True)\n",
            "      )\n",
            "    )\n",
            "    (4): DepthSeperabelConv2d(\n",
            "      (depthwise): Sequential(\n",
            "        (0): Conv2d(384, 384, kernel_size=(3, 3), stride=(1, 1), padding=(1, 1), groups=384, bias=False)\n",
            "        (1): BatchNorm2d(384, eps=1e-05, momentum=0.1, affine=True, track_running_stats=True)\n",
            "        (2): ReLU(inplace=True)\n",
            "      )\n",
            "      (pointwise): Sequential(\n",
            "        (0): Conv2d(384, 384, kernel_size=(1, 1), stride=(1, 1))\n",
            "        (1): BatchNorm2d(384, eps=1e-05, momentum=0.1, affine=True, track_running_stats=True)\n",
            "        (2): ReLU(inplace=True)\n",
            "      )\n",
            "    )\n",
            "    (5): DepthSeperabelConv2d(\n",
            "      (depthwise): Sequential(\n",
            "        (0): Conv2d(384, 384, kernel_size=(3, 3), stride=(1, 1), padding=(1, 1), groups=384, bias=False)\n",
            "        (1): BatchNorm2d(384, eps=1e-05, momentum=0.1, affine=True, track_running_stats=True)\n",
            "        (2): ReLU(inplace=True)\n",
            "      )\n",
            "      (pointwise): Sequential(\n",
            "        (0): Conv2d(384, 384, kernel_size=(1, 1), stride=(1, 1))\n",
            "        (1): BatchNorm2d(384, eps=1e-05, momentum=0.1, affine=True, track_running_stats=True)\n",
            "        (2): ReLU(inplace=True)\n",
            "      )\n",
            "    )\n",
            "  )\n",
            "  (conv4): Sequential(\n",
            "    (0): DepthSeperabelConv2d(\n",
            "      (depthwise): Sequential(\n",
            "        (0): Conv2d(384, 384, kernel_size=(3, 3), stride=(2, 2), padding=(1, 1), groups=384, bias=False)\n",
            "        (1): BatchNorm2d(384, eps=1e-05, momentum=0.1, affine=True, track_running_stats=True)\n",
            "        (2): ReLU(inplace=True)\n",
            "      )\n",
            "      (pointwise): Sequential(\n",
            "        (0): Conv2d(384, 768, kernel_size=(1, 1), stride=(1, 1))\n",
            "        (1): BatchNorm2d(768, eps=1e-05, momentum=0.1, affine=True, track_running_stats=True)\n",
            "        (2): ReLU(inplace=True)\n",
            "      )\n",
            "    )\n",
            "    (1): DepthSeperabelConv2d(\n",
            "      (depthwise): Sequential(\n",
            "        (0): Conv2d(768, 768, kernel_size=(3, 3), stride=(1, 1), padding=(1, 1), groups=768, bias=False)\n",
            "        (1): BatchNorm2d(768, eps=1e-05, momentum=0.1, affine=True, track_running_stats=True)\n",
            "        (2): ReLU(inplace=True)\n",
            "      )\n",
            "      (pointwise): Sequential(\n",
            "        (0): Conv2d(768, 768, kernel_size=(1, 1), stride=(1, 1))\n",
            "        (1): BatchNorm2d(768, eps=1e-05, momentum=0.1, affine=True, track_running_stats=True)\n",
            "        (2): ReLU(inplace=True)\n",
            "      )\n",
            "    )\n",
            "  )\n",
            "  (fc): Linear(in_features=768, out_features=10, bias=True)\n",
            "  (avg): AdaptiveAvgPool2d(output_size=1)\n",
            ")\n",
            "\n",
            "\ttrainable model parameters:\t1828714\n",
            "\n",
            "                      precision    recall  f1-score   support\n",
            "\n",
            "          AnnualCrop       0.97      0.88      0.92       631\n",
            "              Forest       0.96      0.98      0.97       582\n",
            "HerbaceousVegetation       0.88      0.85      0.86       612\n",
            "             Highway       0.95      0.93      0.94       525\n",
            "          Industrial       0.97      0.91      0.94       484\n",
            "             Pasture       0.90      0.91      0.90       396\n",
            "       PermanentCrop       0.81      0.91      0.86       506\n",
            "         Residential       0.91      1.00      0.95       606\n",
            "               River       0.94      0.91      0.93       497\n",
            "             SeaLake       0.98      0.97      0.97       561\n",
            "\n",
            "            accuracy                           0.93      5400\n",
            "           macro avg       0.93      0.93      0.93      5400\n",
            "        weighted avg       0.93      0.93      0.93      5400\n",
            "\n",
            "[Info] Model evaluation done.\n"
          ]
        }
      ],
      "source": [
        "#@title\n",
        "# we can now evaluate the network on the test set\n",
        "print(\"[Info] Evaluating network...\\n\")\n",
        "\n",
        "# turn off autograd for testing evaluation\n",
        "with torch.no_grad():\n",
        "\n",
        "  # srt the model in evaluation mode\n",
        "  model.eval()\n",
        "\n",
        "  # initialize a list to store our predictions\n",
        "  preds = []\n",
        "\n",
        "  # loop over the test set\n",
        "  for (x, y) in test_dataloader:\n",
        "\n",
        "    # send the input to the device\n",
        "    x = x.to(device)\n",
        "\n",
        "    # make the predictions and add them to the list\n",
        "    pred = model(x)\n",
        "    preds.extend(pred.argmax(axis=1).cpu().numpy())\n",
        "\n",
        "# print model architecture\n",
        "print(f\"\\tMobileNet model:\\n{model}\")\n",
        "print(f\"\\n\\ttrainable model parameters:\\t{sum(p.numel() for p in model.parameters() if p.requires_grad)}\\n\")\n",
        "\n",
        "test_data_targets = [x[1] for x in test_data]\n",
        "\n",
        "# generate a classification report\n",
        "print(classification_report(test_data_targets, np.array(preds), target_names=EuroSATDataSet.classes))\n",
        "\n",
        "print(\"[Info] Model evaluation done.\")"
      ]
    },
    {
      "cell_type": "markdown",
      "metadata": {
        "id": "tWljIJx-z_5A"
      },
      "source": [
        "#-------------------------------------------------------------------------------"
      ]
    },
    {
      "cell_type": "markdown",
      "metadata": {
        "id": "9y5Wg7D4z1XK"
      },
      "source": [
        "# 6) Plotting the results and saving model"
      ]
    },
    {
      "cell_type": "markdown",
      "metadata": {
        "id": "yJLuZiB6R_B3"
      },
      "source": [
        "### 6.1) Saving the model"
      ]
    },
    {
      "cell_type": "code",
      "execution_count": 65,
      "metadata": {
        "id": "tfuwKg_XR-Tg"
      },
      "outputs": [],
      "source": [
        "#@title\n",
        "# serialize the model to disk\n",
        "torch.save(model, \"/content/drive/MyDrive/DeepLearning/assignments/MobileNet/MobileNet_model_alpha75\")\n",
        "# torch.save(model_alpha75, \".//MobileNet_model_alpha75\")\n",
        "# torch.save(model_alpha25, \".//MobileNet_model_alpha25\")"
      ]
    },
    {
      "cell_type": "markdown",
      "metadata": {
        "id": "K23L3OmXSBHE"
      },
      "source": [
        "### 6.2) Plotting the training progress (loss)"
      ]
    },
    {
      "cell_type": "code",
      "execution_count": 66,
      "metadata": {
        "id": "CatQbrMgpl2s",
        "colab": {
          "base_uri": "https://localhost:8080/",
          "height": 638
        },
        "outputId": "65c264d0-62aa-458d-ea20-002d726914a5"
      },
      "outputs": [
        {
          "output_type": "display_data",
          "data": {
            "text/plain": [
              "<Figure size 1440x720 with 1 Axes>"
            ],
            "image/png": "[encoded data removed]"
          },
          "metadata": {}
        }
      ],
      "source": [
        "#@title\n",
        "# plot the training loss and accuracy\n",
        "plt.style.use(\"ggplot\")\n",
        "\n",
        "plt.figure(figsize=(20, 10))\n",
        "\n",
        "plt.plot(H[\"train_loss\"], label=\"train_loss\")\n",
        "plt.plot(H[\"val_loss\"],   label=\"val_loss\")\n",
        "\n",
        "plt.title(\"Training Loss on Dataset\", fontsize=25, pad=10)\n",
        "plt.xlabel(\"Epoch #\")\n",
        "plt.ylabel(\"Loss\")\n",
        "\n",
        "plt.legend(loc=\"center right\")\n",
        "plt.show()"
      ]
    },
    {
      "cell_type": "markdown",
      "metadata": {
        "id": "6v8JctIPSEdy"
      },
      "source": [
        "### 6.3) Plotting training progress (accuracy)"
      ]
    },
    {
      "cell_type": "code",
      "execution_count": 67,
      "metadata": {
        "id": "PXPTj0PTR1QJ",
        "colab": {
          "base_uri": "https://localhost:8080/",
          "height": 638
        },
        "outputId": "77118007-5fcc-4bfa-bb3c-449d648be07a"
      },
      "outputs": [
        {
          "output_type": "display_data",
          "data": {
            "text/plain": [
              "<Figure size 1440x720 with 1 Axes>"
            ],
            "image/png": "[encoded data removed]"
          },
          "metadata": {}
        }
      ],
      "source": [
        "#@title\n",
        "# plot the training accuracy\n",
        "plt.style.use(\"ggplot\")\n",
        "\n",
        "plt.figure(figsize=(20, 10))\n",
        "\n",
        "plt.plot(H[\"train_acc\"], label=\"train_acc\")\n",
        "plt.plot(H[\"val_acc\"],   label=\"val_acc\")\n",
        "\n",
        "plt.title(\"Training Accuracy on Dataset\", fontsize=25, pad=10)\n",
        "plt.xlabel(\"Epoch #\")\n",
        "plt.ylabel(\"Accuracy\")\n",
        "\n",
        "plt.legend(loc=\"center right\")\n",
        "plt.show()"
      ]
    },
    {
      "cell_type": "markdown",
      "metadata": {
        "id": "8sfrwSI7gjSk"
      },
      "source": [
        "#-------------------------------------------------------------------------------"
      ]
    },
    {
      "cell_type": "code",
      "execution_count": 68,
      "metadata": {
        "id": "hNlWbe785GVM",
        "colab": {
          "base_uri": "https://localhost:8080/"
        },
        "outputId": "90c84e4d-9a3c-4872-b9d3-eddffda05f79"
      },
      "outputs": [
        {
          "output_type": "stream",
          "name": "stdout",
          "text": [
            "1828714\n"
          ]
        }
      ],
      "source": [
        "pytorch_total_params = sum(p.numel() for p in model.parameters() if p.requires_grad)\n",
        "print(pytorch_total_params)"
      ]
    }
  ],
  "metadata": {
    "accelerator": "GPU",
    "colab": {
      "collapsed_sections": [],
      "name": "Assignment_MobileNet_EuroSAT_alpha75.ipynb",
      "provenance": [],
      "machine_shape": "hm",
      "include_colab_link": true
    },
    "kernelspec": {
      "display_name": "Python 3",
      "name": "python3"
    },
    "language_info": {
      "name": "python"
    },
    "gpuClass": "standard"
  },
  "nbformat": 4,
  "nbformat_minor": 0
}