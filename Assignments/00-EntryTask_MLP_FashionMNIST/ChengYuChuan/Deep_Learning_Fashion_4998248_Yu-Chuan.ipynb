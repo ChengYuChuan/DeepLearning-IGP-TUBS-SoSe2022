{
  "nbformat": 4,
  "nbformat_minor": 0,
  "metadata": {
    "colab": {
      "name": "Deep_Learning_ Fashion.ipynb",
      "provenance": [],
      "collapsed_sections": []
    },
    "kernelspec": {
      "name": "python3",
      "display_name": "Python 3"
    },
    "language_info": {
      "name": "python"
    }
  },
  "cells": [
    {
      "cell_type": "markdown",
      "source": [
        "[<img align=\"right\" width=\"400\" height=\"100\" src=\"https://www.tu-braunschweig.de/typo3conf/ext/tu_braunschweig/Resources/Public/Images/Logos/tu_braunschweig_logo.svg\">](https://www.tu-braunschweig.de/en/) \n",
        "\n",
        "[Mehdi Maboudi](https://www.tu-braunschweig.de/en/igp/staff/mehdi-maboudi) \\([m.maboudi@tu-bs.de](m.maboudi@tu-bs.de)) and [Pedro Diaz](https://www.tu-braunschweig.de/en/igp/staff/pedro-diaz) (p.diaz@tu-bs.de)\n",
        "\n",
        "[Technical University of Braunschweig](https://www.tu-braunschweig.de/en/)  \n",
        "[Institute of Geodesy and Photogrammetry](https://www.tu-braunschweig.de/igp)  \n",
        "\n",
        "\n",
        "**Image classification using MLP**  "
      ],
      "metadata": {
        "id": "yuIfMMrkDzuT"
      }
    },
    {
      "cell_type": "markdown",
      "source": [
        "# Deep Learning Entry Task"
      ],
      "metadata": {
        "id": "cinq72Jckqnp"
      }
    },
    {
      "cell_type": "markdown",
      "source": [
        "## 1. Import all necessary packages"
      ],
      "metadata": {
        "id": "We3qMEvHk5iS"
      }
    },
    {
      "cell_type": "code",
      "source": [
        "import numpy as np\n",
        "import pandas as pd\n",
        "import tensorflow as tf\n",
        "import tensorflow_datasets as tfds\n",
        "import math\n",
        "import seaborn as sns\n",
        "import cv2\n",
        "from tensorflow import keras\n",
        "import matplotlib.pyplot as plt\n",
        "import matplotlib.colors as mcolors"
      ],
      "metadata": {
        "id": "4cEKc2I2lCEs"
      },
      "execution_count": 37,
      "outputs": []
    },
    {
      "cell_type": "markdown",
      "source": [
        "## 2. Load the [Fashion MNIST dataset](https://github.com/zalandoresearch/fashion-mnist]) for image classification and show some samples \n",
        "It is also available in [PyTorch datasets](https://pytorch.org/vision/stable/datasets.html) and [TensorFlow datasets](https://www.tensorflow.org/datasets)"
      ],
      "metadata": {
        "id": "4nm6BDwQkwil"
      }
    },
    {
      "cell_type": "markdown",
      "source": [
        "### 2.1 Loading the dataset"
      ],
      "metadata": {
        "id": "DWbUXwUmFcBx"
      }
    },
    {
      "cell_type": "code",
      "source": [
        "(train_dataset, test_dataset), info = tfds.load('fashion_mnist', split=['train', 'test'], with_info=True)\n",
        "class_names = info.features['label'].names\n",
        "print(\"Class labels: {}\".format(info.features['label'].names))\n",
        "print(\"Numbers of training examples: {}\".format(info.splits['train'].num_examples))\n",
        "print(\"Numbers of test examples: {}\".format(info.splits['test'].num_examples))"
      ],
      "metadata": {
        "colab": {
          "base_uri": "https://localhost:8080/"
        },
        "id": "HwlCBztqQ3Fl",
        "outputId": "4a148064-5bb5-4799-f61a-81369296461d"
      },
      "execution_count": 39,
      "outputs": [
        {
          "output_type": "stream",
          "name": "stdout",
          "text": [
            "Class labels: ['T-shirt/top', 'Trouser', 'Pullover', 'Dress', 'Coat', 'Sandal', 'Shirt', 'Sneaker', 'Bag', 'Ankle boot']\n",
            "Numbers of training examples: 60000\n",
            "Numbers of test examples: 10000\n"
          ]
        }
      ]
    },
    {
      "cell_type": "markdown",
      "source": [
        "### 2.2 Visualizing the dataset"
      ],
      "metadata": {
        "id": "z_FMEEZBFkOg"
      }
    },
    {
      "cell_type": "code",
      "source": [
        "fig = tfds.show_examples(train_dataset, info, rows=3, cols=3)"
      ],
      "metadata": {
        "colab": {
          "base_uri": "https://localhost:8080/",
          "height": 534
        },
        "id": "x8wYzP8eQu5c",
        "outputId": "dc2d5641-a2bd-4341-e28d-11e287c3e224"
      },
      "execution_count": 40,
      "outputs": [
        {
          "output_type": "display_data",
          "data": {
            "text/plain": [
              "<Figure size 648x648 with 9 Axes>"
            ],
            "image/png": "[encoded data removed]"
          },
          "metadata": {}
        }
      ]
    },
    {
      "cell_type": "markdown",
      "source": [
        "## 3. Create a **Multi Layer Perceptron (MLP)** for image classification.\n",
        "Feel free to use any configuration and framework for its implementation (Keras, Tensorflow, Pytorch, etc.)"
      ],
      "metadata": {
        "id": "u5DSZu_xkwza"
      }
    },
    {
      "cell_type": "code",
      "source": [
        "def preprocessing(item):\n",
        "  return (item[\"image\"] / 255, item[\"label\"])"
      ],
      "metadata": {
        "id": "b4oautIKRVRA"
      },
      "execution_count": 41,
      "outputs": []
    },
    {
      "cell_type": "code",
      "source": [
        "train_dataset = train_dataset.map(preprocessing)\n",
        "test_dataset = test_dataset.map(preprocessing)"
      ],
      "metadata": {
        "id": "WMT1O9vclNpx"
      },
      "execution_count": 42,
      "outputs": []
    },
    {
      "cell_type": "code",
      "source": [
        "batch_size = 64\n",
        "train_dataset = train_dataset.repeat()\n",
        "train_dataset = train_dataset.shuffle(buffer_size = 1024, seed = 0)\n",
        "train_dataset = train_dataset.batch(batch_size = batch_size)\n",
        "train_dataset = train_dataset.prefetch(buffer_size = 1)"
      ],
      "metadata": {
        "id": "R1ZAY7KERZic"
      },
      "execution_count": 43,
      "outputs": []
    },
    {
      "cell_type": "code",
      "source": [
        "test_dataset = test_dataset.cache().batch(batch_size)"
      ],
      "metadata": {
        "id": "VS1mCtirRbHm"
      },
      "execution_count": 44,
      "outputs": []
    },
    {
      "cell_type": "code",
      "source": [
        "# 2 hidden layers and one softmax output layer\n",
        "model = tf.keras.models.Sequential([\n",
        "  tf.keras.layers.Flatten(input_shape=(28, 28)), \n",
        "  tf.keras.layers.Dense(64, activation='relu'),\n",
        "  tf.keras.layers.Dense(64, activation='relu'),\n",
        "  tf.keras.layers.Dense(10, activation='softmax')\n",
        "])\n",
        "model.summary()"
      ],
      "metadata": {
        "id": "uKLV88cKRbU3",
        "colab": {
          "base_uri": "https://localhost:8080/"
        },
        "outputId": "64742851-f6b0-4693-eead-25dac646ba81"
      },
      "execution_count": 64,
      "outputs": [
        {
          "output_type": "stream",
          "name": "stdout",
          "text": [
            "Model: \"sequential_4\"\n",
            "_________________________________________________________________\n",
            " Layer (type)                Output Shape              Param #   \n",
            "=================================================================\n",
            " flatten_4 (Flatten)         (None, 784)               0         \n",
            "                                                                 \n",
            " dense_12 (Dense)            (None, 64)                50240     \n",
            "                                                                 \n",
            " dense_13 (Dense)            (None, 64)                4160      \n",
            "                                                                 \n",
            " dense_14 (Dense)            (None, 10)                650       \n",
            "                                                                 \n",
            "=================================================================\n",
            "Total params: 55,050\n",
            "Trainable params: 55,050\n",
            "Non-trainable params: 0\n",
            "_________________________________________________________________\n"
          ]
        }
      ]
    },
    {
      "cell_type": "code",
      "source": [
        "model.compile(\n",
        "    optimizer=tf.keras.optimizers.Adam(0.001),\n",
        "    loss=tf.keras.losses.SparseCategoricalCrossentropy(from_logits=True),\n",
        "    metrics=[tf.keras.metrics.SparseCategoricalAccuracy()],\n",
        ")"
      ],
      "metadata": {
        "id": "L8EPYDmrRbsA"
      },
      "execution_count": 47,
      "outputs": []
    },
    {
      "cell_type": "code",
      "source": [
        "steps = 60000//64"
      ],
      "metadata": {
        "id": "bR4jroXnRcEi"
      },
      "execution_count": 48,
      "outputs": []
    },
    {
      "cell_type": "markdown",
      "source": [
        "## 4. Train the model"
      ],
      "metadata": {
        "id": "MEKQa49Ckw1s"
      }
    },
    {
      "cell_type": "code",
      "source": [
        "history = model.fit(\n",
        "    train_dataset,\n",
        "    batch_size=64,\n",
        "    epochs=30,\n",
        "    verbose=1,\n",
        "    steps_per_epoch=steps,\n",
        ")"
      ],
      "metadata": {
        "id": "J2bvbZr4lfbl",
        "colab": {
          "base_uri": "https://localhost:8080/"
        },
        "outputId": "a708404b-edd0-48e2-e1e5-35d0ab654659"
      },
      "execution_count": 49,
      "outputs": [
        {
          "output_type": "stream",
          "name": "stdout",
          "text": [
            "Epoch 1/30\n"
          ]
        },
        {
          "output_type": "stream",
          "name": "stderr",
          "text": [
            "/usr/local/lib/python3.7/dist-packages/tensorflow/python/util/dispatch.py:1082: UserWarning: \"`sparse_categorical_crossentropy` received `from_logits=True`, but the `output` argument was produced by a sigmoid or softmax activation and thus does not represent logits. Was this intended?\"\n",
            "  return dispatch_target(*args, **kwargs)\n"
          ]
        },
        {
          "output_type": "stream",
          "name": "stdout",
          "text": [
            "937/937 [==============================] - 10s 10ms/step - loss: 0.5362 - sparse_categorical_accuracy: 0.8141\n",
            "Epoch 2/30\n",
            "937/937 [==============================] - 5s 5ms/step - loss: 0.3930 - sparse_categorical_accuracy: 0.8578\n",
            "Epoch 3/30\n",
            "937/937 [==============================] - 5s 5ms/step - loss: 0.3508 - sparse_categorical_accuracy: 0.8730\n",
            "Epoch 4/30\n",
            "937/937 [==============================] - 5s 5ms/step - loss: 0.3269 - sparse_categorical_accuracy: 0.8797\n",
            "Epoch 5/30\n",
            "937/937 [==============================] - 5s 5ms/step - loss: 0.3055 - sparse_categorical_accuracy: 0.8869\n",
            "Epoch 6/30\n",
            "937/937 [==============================] - 5s 5ms/step - loss: 0.2925 - sparse_categorical_accuracy: 0.8916\n",
            "Epoch 7/30\n",
            "937/937 [==============================] - 5s 5ms/step - loss: 0.2821 - sparse_categorical_accuracy: 0.8935\n",
            "Epoch 8/30\n",
            "937/937 [==============================] - 5s 5ms/step - loss: 0.2690 - sparse_categorical_accuracy: 0.9006\n",
            "Epoch 9/30\n",
            "937/937 [==============================] - 5s 5ms/step - loss: 0.2592 - sparse_categorical_accuracy: 0.9026\n",
            "Epoch 10/30\n",
            "937/937 [==============================] - 5s 5ms/step - loss: 0.2523 - sparse_categorical_accuracy: 0.9056\n",
            "Epoch 11/30\n",
            "937/937 [==============================] - 5s 5ms/step - loss: 0.2447 - sparse_categorical_accuracy: 0.9086\n",
            "Epoch 12/30\n",
            "937/937 [==============================] - 5s 5ms/step - loss: 0.2356 - sparse_categorical_accuracy: 0.9120\n",
            "Epoch 13/30\n",
            "937/937 [==============================] - 5s 5ms/step - loss: 0.2278 - sparse_categorical_accuracy: 0.9143\n",
            "Epoch 14/30\n",
            "937/937 [==============================] - 5s 5ms/step - loss: 0.2247 - sparse_categorical_accuracy: 0.9157\n",
            "Epoch 15/30\n",
            "937/937 [==============================] - 5s 5ms/step - loss: 0.2167 - sparse_categorical_accuracy: 0.9197\n",
            "Epoch 16/30\n",
            "937/937 [==============================] - 5s 5ms/step - loss: 0.2135 - sparse_categorical_accuracy: 0.9192\n",
            "Epoch 17/30\n",
            "937/937 [==============================] - 5s 5ms/step - loss: 0.2057 - sparse_categorical_accuracy: 0.9211\n",
            "Epoch 18/30\n",
            "937/937 [==============================] - 5s 5ms/step - loss: 0.1995 - sparse_categorical_accuracy: 0.9249\n",
            "Epoch 19/30\n",
            "937/937 [==============================] - 5s 5ms/step - loss: 0.1958 - sparse_categorical_accuracy: 0.9262\n",
            "Epoch 20/30\n",
            "937/937 [==============================] - 5s 5ms/step - loss: 0.1932 - sparse_categorical_accuracy: 0.9272\n",
            "Epoch 21/30\n",
            "937/937 [==============================] - 5s 5ms/step - loss: 0.1851 - sparse_categorical_accuracy: 0.9303\n",
            "Epoch 22/30\n",
            "937/937 [==============================] - 5s 5ms/step - loss: 0.1846 - sparse_categorical_accuracy: 0.9307\n",
            "Epoch 23/30\n",
            "937/937 [==============================] - 5s 5ms/step - loss: 0.1783 - sparse_categorical_accuracy: 0.9320\n",
            "Epoch 24/30\n",
            "937/937 [==============================] - 5s 5ms/step - loss: 0.1750 - sparse_categorical_accuracy: 0.9332\n",
            "Epoch 25/30\n",
            "937/937 [==============================] - 5s 5ms/step - loss: 0.1719 - sparse_categorical_accuracy: 0.9348\n",
            "Epoch 26/30\n",
            "937/937 [==============================] - 5s 5ms/step - loss: 0.1687 - sparse_categorical_accuracy: 0.9371\n",
            "Epoch 27/30\n",
            "937/937 [==============================] - 5s 5ms/step - loss: 0.1645 - sparse_categorical_accuracy: 0.9374\n",
            "Epoch 28/30\n",
            "937/937 [==============================] - 5s 5ms/step - loss: 0.1586 - sparse_categorical_accuracy: 0.9404\n",
            "Epoch 29/30\n",
            "937/937 [==============================] - 5s 5ms/step - loss: 0.1568 - sparse_categorical_accuracy: 0.9408\n",
            "Epoch 30/30\n",
            "937/937 [==============================] - 5s 5ms/step - loss: 0.1524 - sparse_categorical_accuracy: 0.9425\n"
          ]
        }
      ]
    },
    {
      "cell_type": "markdown",
      "source": [
        "## 5. Plots\n",
        "Plot the evolution of the Loss function and Accuracy values over the epochs during training."
      ],
      "metadata": {
        "id": "WBYBItDnkw39"
      }
    },
    {
      "cell_type": "code",
      "source": [
        "history_frame = pd.DataFrame(history.history)\n",
        "history_frame.plot(figsize=(8, 5))\n",
        "plt.title(\"Evolution of the Loss function and Accuracy values\")\n",
        "plt.xlabel(\"Epochs\")\n",
        "plt.ylabel(\"Loss/Accuracy\")\n",
        "plt.show()\n",
        "model.save(\"model.h5\")"
      ],
      "metadata": {
        "id": "wCBoEPIclnSP",
        "colab": {
          "base_uri": "https://localhost:8080/",
          "height": 350
        },
        "outputId": "14c1a123-154d-46f6-dcc3-157ead781312"
      },
      "execution_count": 50,
      "outputs": [
        {
          "output_type": "display_data",
          "data": {
            "text/plain": [
              "<Figure size 576x360 with 1 Axes>"
            ],
            "image/png": "[encoded data removed]"
          },
          "metadata": {
            "needs_background": "light"
          }
        }
      ]
    },
    {
      "cell_type": "markdown",
      "source": [
        "## 6. Run inference\n",
        "Run inference in the test set and compute the metrics for testing."
      ],
      "metadata": {
        "id": "upl8PW0vkw6O"
      }
    },
    {
      "cell_type": "code",
      "source": [
        "test_loss, test_accuracy = model.evaluate(test_dataset, steps=math.ceil(10000//64)) #10000 :test samples available\n",
        "print('Accuracy on test dataset:', test_accuracy)"
      ],
      "metadata": {
        "colab": {
          "base_uri": "https://localhost:8080/"
        },
        "id": "zWiBD778ZUdZ",
        "outputId": "5c77d7ce-2453-4f9a-e089-bb018c84fe30"
      },
      "execution_count": 52,
      "outputs": [
        {
          "output_type": "stream",
          "name": "stderr",
          "text": [
            "/usr/local/lib/python3.7/dist-packages/tensorflow/python/util/dispatch.py:1082: UserWarning: \"`sparse_categorical_crossentropy` received `from_logits=True`, but the `output` argument was produced by a sigmoid or softmax activation and thus does not represent logits. Was this intended?\"\n",
            "  return dispatch_target(*args, **kwargs)\n"
          ]
        },
        {
          "output_type": "stream",
          "name": "stdout",
          "text": [
            "156/156 [==============================] - 3s 19ms/step - loss: 0.3950 - sparse_categorical_accuracy: 0.8809\n",
            "Accuracy on test dataset: 0.8809094429016113\n"
          ]
        }
      ]
    },
    {
      "cell_type": "markdown",
      "source": [
        "## 7. Test samples\n",
        "Show some samples from the test set: image, reference class and predicted class."
      ],
      "metadata": {
        "id": "rpP6xohukw8t"
      }
    },
    {
      "cell_type": "code",
      "source": [
        "#transfrom it into numpy\n",
        "for test_images, test_labels in test_dataset.take(1):\n",
        "    test_images = test_images.numpy()\n",
        "    test_labels = test_labels.numpy()\n",
        "    predictions = model.predict(test_images)"
      ],
      "metadata": {
        "id": "4JWN15XFYm_T"
      },
      "execution_count": 53,
      "outputs": []
    },
    {
      "cell_type": "code",
      "source": [
        "def test_sample_plot(index, predictions, true_labels, images):\n",
        "  predictions, true_label, img = predictions[index], true_labels[index], images[index]\n",
        "  plt.xticks([])\n",
        "  plt.yticks([])\n",
        "  plt.imshow(img[...,0], cmap=plt.cm.binary)\n",
        "  predicted_label = np.argmax(predictions)\n",
        "  if predicted_label == true_label:\n",
        "    color = 'green'\n",
        "  else:\n",
        "    color = 'red'\n",
        "  plt.xlabel(\"Prediction: {} {:2.1f}% \\n(Fact: {})\".format(class_names[predicted_label],\n",
        "                                                            100*np.max(predictions),\n",
        "                                                            class_names[true_label]),\n",
        "                                                            color=color)\n",
        "num_rows = 3\n",
        "num_cols = 3\n",
        "num_images = num_rows*num_cols\n",
        "plt.figure(figsize=(2*2*num_cols, 2.5*num_rows))\n",
        "for i in range(num_images):\n",
        "  plt.subplot(num_rows, 2*num_cols, 2*i+1)\n",
        "  test_sample_plot(i, predictions, test_labels, test_images)"
      ],
      "metadata": {
        "id": "QjRHKsLalyQJ",
        "colab": {
          "base_uri": "https://localhost:8080/",
          "height": 440
        },
        "outputId": "7afb4213-3095-4f84-ba57-8c86993d5fb4"
      },
      "execution_count": 55,
      "outputs": [
        {
          "output_type": "display_data",
          "data": {
            "text/plain": [
              "<Figure size 864x540 with 9 Axes>"
            ],
            "image/png": "[encoded data removed]"
          },
          "metadata": {}
        }
      ]
    },
    {
      "cell_type": "markdown",
      "source": [
        "## 8. Testing with rotation\n",
        "Choose one image from the test set, apply a rotation (e.g. 30°, 45°, 60°)."
      ],
      "metadata": {
        "id": "_Elaw0zYkw-_"
      }
    },
    {
      "cell_type": "code",
      "source": [
        "#pick one image from whole dataset\n",
        "for test_images, test_labels in test_dataset.take(1):\n",
        "    test_image = test_images\n",
        "    test_label = test_labels"
      ],
      "metadata": {
        "id": "7iOOqc_gmAgg"
      },
      "execution_count": 56,
      "outputs": []
    },
    {
      "cell_type": "code",
      "source": [
        "img = test_image[0]\n",
        "label = test_label[0]\n",
        "plt.imshow(img[...,0], cmap=plt.cm.binary)\n",
        "plt.xlabel(class_names[label])"
      ],
      "metadata": {
        "colab": {
          "base_uri": "https://localhost:8080/",
          "height": 296
        },
        "id": "NaFJsWK6mKxv",
        "outputId": "973c3890-fb8b-47fd-8928-09eaadeb8bb7"
      },
      "execution_count": 57,
      "outputs": [
        {
          "output_type": "execute_result",
          "data": {
            "text/plain": [
              "Text(0.5, 0, 'Coat')"
            ]
          },
          "metadata": {},
          "execution_count": 57
        },
        {
          "output_type": "display_data",
          "data": {
            "text/plain": [
              "<Figure size 432x288 with 1 Axes>"
            ],
            "image/png": "[encoded data removed]"
          },
          "metadata": {
            "needs_background": "light"
          }
        }
      ]
    },
    {
      "cell_type": "code",
      "source": [
        "center=tuple(np.array([28,28])/2)\n",
        "#rotate it with 45 degree\n",
        "rot_mat = cv2.getRotationMatrix2D(center,45,1.0)\n",
        "new_image = cv2.warpAffine(img[...,0].numpy(), rot_mat, (28,28))\n",
        "plt.imshow(new_image, cmap=plt.cm.binary)"
      ],
      "metadata": {
        "colab": {
          "base_uri": "https://localhost:8080/",
          "height": 282
        },
        "id": "ti3MyozmlH1X",
        "outputId": "5ae2dc2b-0a94-4ef9-c315-71909f0c3794"
      },
      "execution_count": 58,
      "outputs": [
        {
          "output_type": "execute_result",
          "data": {
            "text/plain": [
              "<matplotlib.image.AxesImage at 0x7f6234109c90>"
            ]
          },
          "metadata": {},
          "execution_count": 58
        },
        {
          "output_type": "display_data",
          "data": {
            "text/plain": [
              "<Figure size 432x288 with 1 Axes>"
            ],
            "image/png": "[encoded data removed]"
          },
          "metadata": {
            "needs_background": "light"
          }
        }
      ]
    },
    {
      "cell_type": "markdown",
      "source": [
        "## 9. Comparison\n",
        "Compare the predicted classes before and after the rotation. Is there any change? If yes, what would be the reason for it?"
      ],
      "metadata": {
        "id": "Wu2g0fEwkxBl"
      }
    },
    {
      "cell_type": "markdown",
      "source": [
        "Answer:\n",
        "Yes,\n",
        "the reason would be that we only train with whole picture. If we train the model with decomposed feature which is CNN, then we can overcome this rotation problem. we usually will manipulate our limted data with mirror and rotation for getting more valid data."
      ],
      "metadata": {
        "id": "dxfPknpA9mdA"
      }
    },
    {
      "cell_type": "code",
      "execution_count": 59,
      "metadata": {
        "id": "mZxUWoBfadoD",
        "colab": {
          "base_uri": "https://localhost:8080/",
          "height": 308
        },
        "outputId": "65dc74d4-285b-4884-c1e9-438e0a67ef21"
      },
      "outputs": [
        {
          "output_type": "execute_result",
          "data": {
            "text/plain": [
              "Text(0.5, 0, 'Prediction: Shirt 94% \\n(Truth: Coat)')"
            ]
          },
          "metadata": {},
          "execution_count": 59
        },
        {
          "output_type": "display_data",
          "data": {
            "text/plain": [
              "<Figure size 432x288 with 1 Axes>"
            ],
            "image/png": "[encoded data removed]"
          },
          "metadata": {
            "needs_background": "light"
          }
        }
      ],
      "source": [
        "plt.imshow(new_image, cmap=plt.cm.binary)\n",
        "rotated_image = np.expand_dims(new_image, axis=0)\n",
        "prediction = model.predict(rotated_image)\n",
        "predicted_label = np.argmax(prediction)\n",
        "true_label = label\n",
        "if predicted_label == true_label:\n",
        "    color = 'green'\n",
        "else:\n",
        "    color = 'red'\n",
        "plt.xlabel(\"Prediction: {} {:2.0f}% \\n(Truth: {})\".format(class_names[predicted_label],\n",
        "                                100*np.max(prediction),\n",
        "                                class_names[true_label]),\n",
        "                                color=color)"
      ]
    },
    {
      "cell_type": "markdown",
      "source": [
        "## 10. Testing with new image\n",
        "Test the model with another image (from internet or take a photo with your phone). Do not forget to convert the image to the Fashion MNIST format: grayscale, $28\\times 28$. Comment the results."
      ],
      "metadata": {
        "id": "3-WqJgC2mMi3"
      }
    },
    {
      "cell_type": "code",
      "source": [
        "raw = tf.io.read_file('coat.png')\n",
        "image = tf.image.decode_image(raw, channels=3)\n",
        "image = tf.image.rgb_to_grayscale(image, name=None)\n",
        "normalized_image = tf.image.resize_with_pad(image, 28, 28, antialias=False)\n",
        "expanded_image = tf.expand_dims(normalized_image, axis=0)\n",
        "expanded_image = tf.cast(expanded_image, dtype=tf.float64)\n",
        "plt.imshow(np.squeeze(expanded_image), cmap=plt.cm.binary)"
      ],
      "metadata": {
        "colab": {
          "base_uri": "https://localhost:8080/",
          "height": 282
        },
        "id": "vFqTyGHftXkZ",
        "outputId": "31c9a40f-a2ac-46d9-b70a-8a97bfcc3933"
      },
      "execution_count": 62,
      "outputs": [
        {
          "output_type": "execute_result",
          "data": {
            "text/plain": [
              "<matplotlib.image.AxesImage at 0x7f623721cd90>"
            ]
          },
          "metadata": {},
          "execution_count": 62
        },
        {
          "output_type": "display_data",
          "data": {
            "text/plain": [
              "<Figure size 432x288 with 1 Axes>"
            ],
            "image/png": "[encoded data removed]"
          },
          "metadata": {
            "needs_background": "light"
          }
        }
      ]
    },
    {
      "cell_type": "code",
      "source": [
        "#get the probability\n",
        "prediction = model.predict(expanded_image)\n",
        "#get the most likely prediction\n",
        "pred_label = np.argmax(prediction)\n",
        "print(class_names[pred_label])\n",
        "print(\"{:2.1f}%\".format(100*np.max(prediction)))"
      ],
      "metadata": {
        "colab": {
          "base_uri": "https://localhost:8080/"
        },
        "id": "HgtNBnfMqI5W",
        "outputId": "15acdac3-33b8-4253-e160-bc56c28311f5"
      },
      "execution_count": 63,
      "outputs": [
        {
          "output_type": "stream",
          "name": "stdout",
          "text": [
            "Ankle boot\n",
            "100.0%\n"
          ]
        }
      ]
    },
    {
      "cell_type": "markdown",
      "source": [
        "\n",
        "## 11. How could we improve the trained model?"
      ],
      "metadata": {
        "id": "F48NbzdEmXUm"
      }
    },
    {
      "cell_type": "markdown",
      "source": [
        "There are many methods we learned in the course. For example: Dropout, Initialization, adjusting batch sizes, increasing the number of neurons in the hidden layer and using different optimizer rather than Adam.\n",
        "\n",
        "In my case of predicting the image from the internet, i think increasing the resolution will help a lot since those clothes or shoes usually have more feature than digits. Therefore, i would say 28*28 resolusion is too low.\n",
        "Also, if we try to solve rotation problem in rotation, we need to use CNN to learn how to recognize the feature of items."
      ],
      "metadata": {
        "id": "5i3rw6SJmYpo"
      }
    },
    {
      "cell_type": "code",
      "source": [
        ""
      ],
      "metadata": {
        "id": "V6CDV-2h_YkW"
      },
      "execution_count": null,
      "outputs": []
    }
  ]
}